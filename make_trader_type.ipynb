{
 "cells": [
  {
   "cell_type": "code",
   "execution_count": 6,
   "id": "ade66a3c-d47f-4d5b-8e60-354aada31d24",
   "metadata": {},
   "outputs": [],
   "source": [
    "from pymongo import MongoClient\n",
    "\n",
    "mongodb_host = \"143.248.36.150\"\n",
    "port_ = 27017\n",
    "username_ =\"nft\"\n",
    "password_ = \"nft!@#\"\n",
    "DBname_ = \"transactionNFTDB\"\n",
    "client = MongoClient(host = mongodb_host, port = port_ , username = username_ , password = password_, authSource = \"twitterNFTDB\" )\n",
    "db = client[DBname_ ]"
   ]
  },
  {
   "cell_type": "code",
   "execution_count": 154,
   "id": "35ae5569-df75-4bd4-a433-347d6155c4da",
   "metadata": {},
   "outputs": [],
   "source": [
    "#is_whale: {'1' : False, '2' True ,,,}"
   ]
  },
  {
   "cell_type": "code",
   "execution_count": 18,
   "id": "341b34c0-790e-4549-8e32-ccf8db951f97",
   "metadata": {},
   "outputs": [],
   "source": [
    "import pandas as pd\n",
    "\n",
    "hold_col = db[\"trader_holdings.4\"]\n",
    "holdings_df = pd.DataFrame(list(hold_col.find()))"
   ]
  },
  {
   "cell_type": "code",
   "execution_count": 19,
   "id": "a9ffc514-7821-49cb-94fa-1dc3597c14b1",
   "metadata": {},
   "outputs": [
    {
     "name": "stdout",
     "output_type": "stream",
     "text": [
      "(276759, 3)\n"
     ]
    },
    {
     "data": {
      "text/html": [
       "<div>\n",
       "<style scoped>\n",
       "    .dataframe tbody tr th:only-of-type {\n",
       "        vertical-align: middle;\n",
       "    }\n",
       "\n",
       "    .dataframe tbody tr th {\n",
       "        vertical-align: top;\n",
       "    }\n",
       "\n",
       "    .dataframe thead th {\n",
       "        text-align: right;\n",
       "    }\n",
       "</style>\n",
       "<table border=\"1\" class=\"dataframe\">\n",
       "  <thead>\n",
       "    <tr style=\"text-align: right;\">\n",
       "      <th></th>\n",
       "      <th>_id</th>\n",
       "      <th>wallet_addr</th>\n",
       "      <th>holdings</th>\n",
       "    </tr>\n",
       "  </thead>\n",
       "  <tbody>\n",
       "    <tr>\n",
       "      <th>0</th>\n",
       "      <td>6270b36ff8e8290ff7775015</td>\n",
       "      <td>0xee33ff0d8e7d06b16c0e26296ef72098c7f305c5</td>\n",
       "      <td>{'13': {'ERC721': {'tokens': [{'nft_id': '0x5a...</td>\n",
       "    </tr>\n",
       "    <tr>\n",
       "      <th>1</th>\n",
       "      <td>6270b36ff8e8290ff7775018</td>\n",
       "      <td>0x855fa69adae71b02b707f3e49d64062aadf54037</td>\n",
       "      <td>{'13': {'ERC721': {'tokens': [{'nft_id': '0xb9...</td>\n",
       "    </tr>\n",
       "    <tr>\n",
       "      <th>2</th>\n",
       "      <td>6270b36ff8e8290ff7775069</td>\n",
       "      <td>0x29205f257f9e3b78bcb27e253d0f3fad9d7522a2</td>\n",
       "      <td>{'13': {'ERC721': {'tokens': [{'nft_id': '0xeb...</td>\n",
       "    </tr>\n",
       "    <tr>\n",
       "      <th>3</th>\n",
       "      <td>6270b36ff8e8290ff7775077</td>\n",
       "      <td>0x3a51b8134fab3b17d16f57d68897957b917902fa</td>\n",
       "      <td>{'13': {'ERC721': {'tokens': [{'nft_id': '0x2a...</td>\n",
       "    </tr>\n",
       "    <tr>\n",
       "      <th>4</th>\n",
       "      <td>6270b36ff8e8290ff777507a</td>\n",
       "      <td>0x76db07a8c64990bfbb1f5934f67ce7f31e84e43a</td>\n",
       "      <td>{'13': {'ERC721': {'tokens': [{'nft_id': '0x99...</td>\n",
       "    </tr>\n",
       "  </tbody>\n",
       "</table>\n",
       "</div>"
      ],
      "text/plain": [
       "                        _id                                 wallet_addr  \\\n",
       "0  6270b36ff8e8290ff7775015  0xee33ff0d8e7d06b16c0e26296ef72098c7f305c5   \n",
       "1  6270b36ff8e8290ff7775018  0x855fa69adae71b02b707f3e49d64062aadf54037   \n",
       "2  6270b36ff8e8290ff7775069  0x29205f257f9e3b78bcb27e253d0f3fad9d7522a2   \n",
       "3  6270b36ff8e8290ff7775077  0x3a51b8134fab3b17d16f57d68897957b917902fa   \n",
       "4  6270b36ff8e8290ff777507a  0x76db07a8c64990bfbb1f5934f67ce7f31e84e43a   \n",
       "\n",
       "                                            holdings  \n",
       "0  {'13': {'ERC721': {'tokens': [{'nft_id': '0x5a...  \n",
       "1  {'13': {'ERC721': {'tokens': [{'nft_id': '0xb9...  \n",
       "2  {'13': {'ERC721': {'tokens': [{'nft_id': '0xeb...  \n",
       "3  {'13': {'ERC721': {'tokens': [{'nft_id': '0x2a...  \n",
       "4  {'13': {'ERC721': {'tokens': [{'nft_id': '0x99...  "
      ]
     },
     "execution_count": 19,
     "metadata": {},
     "output_type": "execute_result"
    }
   ],
   "source": [
    "print(holdings_df.shape)\n",
    "holdings_df.head()"
   ]
  },
  {
   "cell_type": "code",
   "execution_count": 8,
   "id": "c6e9cbd8-0b58-4b0c-986d-7fef3cad4ccf",
   "metadata": {},
   "outputs": [],
   "source": [
    "#tot_dict_list = [{}, {}, {}, {}, {}, {}, {}, {}, {}, {}, {}, {}, {}, {}]\n",
    "#len(tot_dict_list)"
   ]
  },
  {
   "cell_type": "code",
   "execution_count": 20,
   "id": "7be54179-cf0b-43f8-b41e-8d408818e557",
   "metadata": {},
   "outputs": [
    {
     "name": "stderr",
     "output_type": "stream",
     "text": [
      "100%|██████████| 276759/276759 [00:15<00:00, 17986.45it/s]\n"
     ]
    }
   ],
   "source": [
    "from tqdm import tqdm\n",
    "\n",
    "NULL_ADDR = '0x0000000000000000000000000000000000000000'\n",
    "BURN_ADDR = '0x000000000000000000000000000000000000dead'\n",
    "\n",
    "for index, row in tqdm(holdings_df.iterrows(), total=holdings_df.shape[0]):\n",
    "    wallet_addr = row['wallet_addr']\n",
    "    if wallet_addr in [NULL_ADDR, BURN_ADDR]:\n",
    "        continue\n",
    "    if wallet_addr in blacklist:\n",
    "        continue\n",
    "    holdings = row['holdings']\n",
    "    for key in list(holdings.keys()):\n",
    "        tot_price = holdings[key]['tot_price']\n",
    "        tot_dict = tot_dict_list[int(key)-1]\n",
    "        tot_dict[wallet_addr] = tot_price"
   ]
  },
  {
   "cell_type": "code",
   "execution_count": 21,
   "id": "c4c0d508-cd19-4d92-a160-6a066f468ddc",
   "metadata": {},
   "outputs": [],
   "source": [
    "# make list of dict to dataframe\n",
    "tot_price_df = pd.DataFrame(tot_dict_list)\n",
    "tot_price_df = tot_price_df.transpose()\n",
    "tot_price_df.columns = ['1', '2', '3', '4', '5', '6', '7', '8', '9', '10', '11', '12', '13', '14']"
   ]
  },
  {
   "cell_type": "code",
   "execution_count": 22,
   "id": "2e090150-4371-4961-9dd5-52f79c754473",
   "metadata": {},
   "outputs": [
    {
     "name": "stdout",
     "output_type": "stream",
     "text": [
      "345926\n"
     ]
    },
    {
     "data": {
      "text/html": [
       "<div>\n",
       "<style scoped>\n",
       "    .dataframe tbody tr th:only-of-type {\n",
       "        vertical-align: middle;\n",
       "    }\n",
       "\n",
       "    .dataframe tbody tr th {\n",
       "        vertical-align: top;\n",
       "    }\n",
       "\n",
       "    .dataframe thead th {\n",
       "        text-align: right;\n",
       "    }\n",
       "</style>\n",
       "<table border=\"1\" class=\"dataframe\">\n",
       "  <thead>\n",
       "    <tr style=\"text-align: right;\">\n",
       "      <th></th>\n",
       "      <th>wallet_addr</th>\n",
       "      <th>1</th>\n",
       "      <th>2</th>\n",
       "      <th>3</th>\n",
       "      <th>4</th>\n",
       "      <th>5</th>\n",
       "      <th>6</th>\n",
       "      <th>7</th>\n",
       "      <th>8</th>\n",
       "      <th>9</th>\n",
       "      <th>10</th>\n",
       "      <th>11</th>\n",
       "      <th>12</th>\n",
       "      <th>13</th>\n",
       "      <th>14</th>\n",
       "    </tr>\n",
       "  </thead>\n",
       "  <tbody>\n",
       "    <tr>\n",
       "      <th>0</th>\n",
       "      <td>0x2b9324f66b7733202261777726d8f9720285cb8a</td>\n",
       "      <td>367170.58100</td>\n",
       "      <td>522642.8088</td>\n",
       "      <td>627719.76720</td>\n",
       "      <td>904979.93640</td>\n",
       "      <td>371715.83974</td>\n",
       "      <td>315927.329600</td>\n",
       "      <td>344985.56560</td>\n",
       "      <td>86523.262800</td>\n",
       "      <td>75674.879800</td>\n",
       "      <td>55738.280000</td>\n",
       "      <td>60175.70000</td>\n",
       "      <td>47812.050000</td>\n",
       "      <td>34928.660000</td>\n",
       "      <td>37992.50000</td>\n",
       "    </tr>\n",
       "    <tr>\n",
       "      <th>1</th>\n",
       "      <td>0xa61d14017057983f6f3b2101b15b48300c961c01</td>\n",
       "      <td>3281.82500</td>\n",
       "      <td>2837.5200</td>\n",
       "      <td>3835.98000</td>\n",
       "      <td>5545.56000</td>\n",
       "      <td>0.00000</td>\n",
       "      <td>0.000000</td>\n",
       "      <td>0.00000</td>\n",
       "      <td>0.000000</td>\n",
       "      <td>0.000000</td>\n",
       "      <td>0.000000</td>\n",
       "      <td>0.00000</td>\n",
       "      <td>0.000000</td>\n",
       "      <td>0.000000</td>\n",
       "      <td>0.00000</td>\n",
       "    </tr>\n",
       "    <tr>\n",
       "      <th>2</th>\n",
       "      <td>0x6301add4fb128de9778b8651a2a9278b86761423</td>\n",
       "      <td>19992.87790</td>\n",
       "      <td>64198.8900</td>\n",
       "      <td>88937.19630</td>\n",
       "      <td>128573.80860</td>\n",
       "      <td>125496.95745</td>\n",
       "      <td>115509.480312</td>\n",
       "      <td>142043.19805</td>\n",
       "      <td>197329.303320</td>\n",
       "      <td>182774.938670</td>\n",
       "      <td>269799.000560</td>\n",
       "      <td>285353.16940</td>\n",
       "      <td>50923.511100</td>\n",
       "      <td>37094.236920</td>\n",
       "      <td>40348.03500</td>\n",
       "    </tr>\n",
       "    <tr>\n",
       "      <th>3</th>\n",
       "      <td>0xebb59307db401a3fd11180722685fa41253e31f9</td>\n",
       "      <td>2362.91400</td>\n",
       "      <td>0.0000</td>\n",
       "      <td>0.00000</td>\n",
       "      <td>0.00000</td>\n",
       "      <td>0.00000</td>\n",
       "      <td>0.000000</td>\n",
       "      <td>0.00000</td>\n",
       "      <td>NaN</td>\n",
       "      <td>NaN</td>\n",
       "      <td>NaN</td>\n",
       "      <td>NaN</td>\n",
       "      <td>NaN</td>\n",
       "      <td>NaN</td>\n",
       "      <td>NaN</td>\n",
       "    </tr>\n",
       "    <tr>\n",
       "      <th>4</th>\n",
       "      <td>0x2a538000a53f38d89f37fa43a301cee2c0f9e331</td>\n",
       "      <td>3222.75215</td>\n",
       "      <td>4618.0638</td>\n",
       "      <td>41438.17395</td>\n",
       "      <td>66438.58158</td>\n",
       "      <td>64897.64967</td>\n",
       "      <td>54483.480240</td>\n",
       "      <td>60673.80459</td>\n",
       "      <td>319569.657186</td>\n",
       "      <td>279501.657851</td>\n",
       "      <td>400925.019284</td>\n",
       "      <td>432843.34721</td>\n",
       "      <td>343911.707865</td>\n",
       "      <td>250274.327498</td>\n",
       "      <td>272227.66025</td>\n",
       "    </tr>\n",
       "  </tbody>\n",
       "</table>\n",
       "</div>"
      ],
      "text/plain": [
       "                                  wallet_addr             1            2  \\\n",
       "0  0x2b9324f66b7733202261777726d8f9720285cb8a  367170.58100  522642.8088   \n",
       "1  0xa61d14017057983f6f3b2101b15b48300c961c01    3281.82500    2837.5200   \n",
       "2  0x6301add4fb128de9778b8651a2a9278b86761423   19992.87790   64198.8900   \n",
       "3  0xebb59307db401a3fd11180722685fa41253e31f9    2362.91400       0.0000   \n",
       "4  0x2a538000a53f38d89f37fa43a301cee2c0f9e331    3222.75215    4618.0638   \n",
       "\n",
       "              3             4             5              6             7  \\\n",
       "0  627719.76720  904979.93640  371715.83974  315927.329600  344985.56560   \n",
       "1    3835.98000    5545.56000       0.00000       0.000000       0.00000   \n",
       "2   88937.19630  128573.80860  125496.95745  115509.480312  142043.19805   \n",
       "3       0.00000       0.00000       0.00000       0.000000       0.00000   \n",
       "4   41438.17395   66438.58158   64897.64967   54483.480240   60673.80459   \n",
       "\n",
       "               8              9             10            11             12  \\\n",
       "0   86523.262800   75674.879800   55738.280000   60175.70000   47812.050000   \n",
       "1       0.000000       0.000000       0.000000       0.00000       0.000000   \n",
       "2  197329.303320  182774.938670  269799.000560  285353.16940   50923.511100   \n",
       "3            NaN            NaN            NaN           NaN            NaN   \n",
       "4  319569.657186  279501.657851  400925.019284  432843.34721  343911.707865   \n",
       "\n",
       "              13            14  \n",
       "0   34928.660000   37992.50000  \n",
       "1       0.000000       0.00000  \n",
       "2   37094.236920   40348.03500  \n",
       "3            NaN           NaN  \n",
       "4  250274.327498  272227.66025  "
      ]
     },
     "execution_count": 22,
     "metadata": {},
     "output_type": "execute_result"
    }
   ],
   "source": [
    "tot_price_df = tot_price_df.reset_index()\n",
    "tot_price_df.rename(columns={'index': 'wallet_addr'}, inplace=True)\n",
    "print(tot_price_df.shape[0])\n",
    "tot_price_df.head()"
   ]
  },
  {
   "cell_type": "code",
   "execution_count": 23,
   "id": "7340b327-d222-4fdf-910d-d64e63f70eb4",
   "metadata": {},
   "outputs": [
    {
     "name": "stdout",
     "output_type": "stream",
     "text": [
      "{'1': 5964, '2': 12505, '3': 19970, '4': 24902, '5': 37930, '6': 45012, '7': 60555, '8': 116952, '9': 179242, '10': 247779, '11': 292275, '12': 361662, '13': 402714, '14': 430227}\n"
     ]
    }
   ],
   "source": [
    "# num of traders in each period\n",
    "trader_num_dict = {'1': 5964, '2': 12505, '3': 19970, '4': 24902, '5': 37930, '6': 45012, '7': 60555\n",
    ", '8': 116952, '9': 179242, '10': 247779, '11': 292275, '12': 361662, '13': 402714, '14': 430227}\n",
    "    \n",
    "print(trader_num_dict)"
   ]
  },
  {
   "cell_type": "code",
   "execution_count": 24,
   "id": "d24d266c-8ce0-4a16-b227-2539f51fc7b2",
   "metadata": {},
   "outputs": [
    {
     "data": {
      "text/html": [
       "<div>\n",
       "<style scoped>\n",
       "    .dataframe tbody tr th:only-of-type {\n",
       "        vertical-align: middle;\n",
       "    }\n",
       "\n",
       "    .dataframe tbody tr th {\n",
       "        vertical-align: top;\n",
       "    }\n",
       "\n",
       "    .dataframe thead th {\n",
       "        text-align: right;\n",
       "    }\n",
       "</style>\n",
       "<table border=\"1\" class=\"dataframe\">\n",
       "  <thead>\n",
       "    <tr style=\"text-align: right;\">\n",
       "      <th></th>\n",
       "      <th>wallet_addr</th>\n",
       "      <th>1</th>\n",
       "      <th>2</th>\n",
       "      <th>3</th>\n",
       "      <th>4</th>\n",
       "      <th>5</th>\n",
       "      <th>6</th>\n",
       "      <th>7</th>\n",
       "      <th>8</th>\n",
       "      <th>9</th>\n",
       "      <th>10</th>\n",
       "      <th>11</th>\n",
       "      <th>12</th>\n",
       "      <th>13</th>\n",
       "      <th>14</th>\n",
       "    </tr>\n",
       "  </thead>\n",
       "  <tbody>\n",
       "    <tr>\n",
       "      <th>0</th>\n",
       "      <td>0x2b9324f66b7733202261777726d8f9720285cb8a</td>\n",
       "      <td>367170.58100</td>\n",
       "      <td>522642.8088</td>\n",
       "      <td>627719.76720</td>\n",
       "      <td>904979.93640</td>\n",
       "      <td>371715.83974</td>\n",
       "      <td>315927.329600</td>\n",
       "      <td>344985.56560</td>\n",
       "      <td>86523.262800</td>\n",
       "      <td>75674.879800</td>\n",
       "      <td>55738.280000</td>\n",
       "      <td>60175.70000</td>\n",
       "      <td>47812.050000</td>\n",
       "      <td>34928.660000</td>\n",
       "      <td>37992.50000</td>\n",
       "    </tr>\n",
       "    <tr>\n",
       "      <th>1</th>\n",
       "      <td>0xa61d14017057983f6f3b2101b15b48300c961c01</td>\n",
       "      <td>3281.82500</td>\n",
       "      <td>2837.5200</td>\n",
       "      <td>3835.98000</td>\n",
       "      <td>5545.56000</td>\n",
       "      <td>0.00000</td>\n",
       "      <td>0.000000</td>\n",
       "      <td>0.00000</td>\n",
       "      <td>0.000000</td>\n",
       "      <td>0.000000</td>\n",
       "      <td>0.000000</td>\n",
       "      <td>0.00000</td>\n",
       "      <td>0.000000</td>\n",
       "      <td>0.000000</td>\n",
       "      <td>0.00000</td>\n",
       "    </tr>\n",
       "    <tr>\n",
       "      <th>2</th>\n",
       "      <td>0x6301add4fb128de9778b8651a2a9278b86761423</td>\n",
       "      <td>19992.87790</td>\n",
       "      <td>64198.8900</td>\n",
       "      <td>88937.19630</td>\n",
       "      <td>128573.80860</td>\n",
       "      <td>125496.95745</td>\n",
       "      <td>115509.480312</td>\n",
       "      <td>142043.19805</td>\n",
       "      <td>197329.303320</td>\n",
       "      <td>182774.938670</td>\n",
       "      <td>269799.000560</td>\n",
       "      <td>285353.16940</td>\n",
       "      <td>50923.511100</td>\n",
       "      <td>37094.236920</td>\n",
       "      <td>40348.03500</td>\n",
       "    </tr>\n",
       "    <tr>\n",
       "      <th>3</th>\n",
       "      <td>0xebb59307db401a3fd11180722685fa41253e31f9</td>\n",
       "      <td>2362.91400</td>\n",
       "      <td>0.0000</td>\n",
       "      <td>0.00000</td>\n",
       "      <td>0.00000</td>\n",
       "      <td>0.00000</td>\n",
       "      <td>0.000000</td>\n",
       "      <td>0.00000</td>\n",
       "      <td>0.000000</td>\n",
       "      <td>0.000000</td>\n",
       "      <td>0.000000</td>\n",
       "      <td>0.00000</td>\n",
       "      <td>0.000000</td>\n",
       "      <td>0.000000</td>\n",
       "      <td>0.00000</td>\n",
       "    </tr>\n",
       "    <tr>\n",
       "      <th>4</th>\n",
       "      <td>0x2a538000a53f38d89f37fa43a301cee2c0f9e331</td>\n",
       "      <td>3222.75215</td>\n",
       "      <td>4618.0638</td>\n",
       "      <td>41438.17395</td>\n",
       "      <td>66438.58158</td>\n",
       "      <td>64897.64967</td>\n",
       "      <td>54483.480240</td>\n",
       "      <td>60673.80459</td>\n",
       "      <td>319569.657186</td>\n",
       "      <td>279501.657851</td>\n",
       "      <td>400925.019284</td>\n",
       "      <td>432843.34721</td>\n",
       "      <td>343911.707865</td>\n",
       "      <td>250274.327498</td>\n",
       "      <td>272227.66025</td>\n",
       "    </tr>\n",
       "  </tbody>\n",
       "</table>\n",
       "</div>"
      ],
      "text/plain": [
       "                                  wallet_addr             1            2  \\\n",
       "0  0x2b9324f66b7733202261777726d8f9720285cb8a  367170.58100  522642.8088   \n",
       "1  0xa61d14017057983f6f3b2101b15b48300c961c01    3281.82500    2837.5200   \n",
       "2  0x6301add4fb128de9778b8651a2a9278b86761423   19992.87790   64198.8900   \n",
       "3  0xebb59307db401a3fd11180722685fa41253e31f9    2362.91400       0.0000   \n",
       "4  0x2a538000a53f38d89f37fa43a301cee2c0f9e331    3222.75215    4618.0638   \n",
       "\n",
       "              3             4             5              6             7  \\\n",
       "0  627719.76720  904979.93640  371715.83974  315927.329600  344985.56560   \n",
       "1    3835.98000    5545.56000       0.00000       0.000000       0.00000   \n",
       "2   88937.19630  128573.80860  125496.95745  115509.480312  142043.19805   \n",
       "3       0.00000       0.00000       0.00000       0.000000       0.00000   \n",
       "4   41438.17395   66438.58158   64897.64967   54483.480240   60673.80459   \n",
       "\n",
       "               8              9             10            11             12  \\\n",
       "0   86523.262800   75674.879800   55738.280000   60175.70000   47812.050000   \n",
       "1       0.000000       0.000000       0.000000       0.00000       0.000000   \n",
       "2  197329.303320  182774.938670  269799.000560  285353.16940   50923.511100   \n",
       "3       0.000000       0.000000       0.000000       0.00000       0.000000   \n",
       "4  319569.657186  279501.657851  400925.019284  432843.34721  343911.707865   \n",
       "\n",
       "              13            14  \n",
       "0   34928.660000   37992.50000  \n",
       "1       0.000000       0.00000  \n",
       "2   37094.236920   40348.03500  \n",
       "3       0.000000       0.00000  \n",
       "4  250274.327498  272227.66025  "
      ]
     },
     "execution_count": 24,
     "metadata": {},
     "output_type": "execute_result"
    }
   ],
   "source": [
    "tot_price_df = tot_price_df.fillna(0)\n",
    "tot_price_df.head()"
   ]
  },
  {
   "cell_type": "code",
   "execution_count": 25,
   "id": "3995d863-0f93-4d78-961e-7c55cd80a3d8",
   "metadata": {},
   "outputs": [],
   "source": [
    "#-------- make type_dict -------------------\n",
    "type_dict = {}\n",
    "# 'wallet_addr': {'is_whale': {'1': True, '2': False}, 'is_dolphin': {'1': True, '2': False}}"
   ]
  },
  {
   "cell_type": "code",
   "execution_count": 26,
   "id": "73403d82-ea17-4387-8fb3-3b0b452f074f",
   "metadata": {},
   "outputs": [
    {
     "name": "stderr",
     "output_type": "stream",
     "text": [
      "100%|██████████| 345926/345926 [00:00<00:00, 577637.61it/s]\n"
     ]
    }
   ],
   "source": [
    "wallet_all = tot_price_df['wallet_addr'].tolist()\n",
    "\n",
    "for addr in tqdm(wallet_all):\n",
    "    type_dict[addr] = {'is_whale': {}, 'is_dolphin': {}}"
   ]
  },
  {
   "cell_type": "code",
   "execution_count": 27,
   "id": "09b2ee89-6e00-44d6-b533-9441a872f6a8",
   "metadata": {
    "scrolled": true,
    "tags": []
   },
   "outputs": [
    {
     "name": "stdout",
     "output_type": "stream",
     "text": [
      "key: 1\n",
      "(6, 15) (590, 15)\n"
     ]
    },
    {
     "name": "stderr",
     "output_type": "stream",
     "text": [
      "100%|██████████| 345926/345926 [00:03<00:00, 105020.16it/s]\n"
     ]
    },
    {
     "name": "stdout",
     "output_type": "stream",
     "text": [
      "key: 2\n",
      "(13, 15) (1237, 15)\n"
     ]
    },
    {
     "name": "stderr",
     "output_type": "stream",
     "text": [
      "100%|██████████| 345926/345926 [00:08<00:00, 42435.48it/s]\n"
     ]
    },
    {
     "name": "stdout",
     "output_type": "stream",
     "text": [
      "key: 3\n",
      "(20, 15) (1977, 15)\n"
     ]
    },
    {
     "name": "stderr",
     "output_type": "stream",
     "text": [
      "100%|██████████| 345926/345926 [00:16<00:00, 21189.96it/s]\n"
     ]
    },
    {
     "name": "stdout",
     "output_type": "stream",
     "text": [
      "key: 4\n",
      "(25, 15) (2465, 15)\n"
     ]
    },
    {
     "name": "stderr",
     "output_type": "stream",
     "text": [
      "100%|██████████| 345926/345926 [00:20<00:00, 16871.60it/s]\n"
     ]
    },
    {
     "name": "stdout",
     "output_type": "stream",
     "text": [
      "key: 5\n",
      "(38, 15) (3755, 15)\n"
     ]
    },
    {
     "name": "stderr",
     "output_type": "stream",
     "text": [
      "100%|██████████| 345926/345926 [00:31<00:00, 11152.81it/s]\n"
     ]
    },
    {
     "name": "stdout",
     "output_type": "stream",
     "text": [
      "key: 6\n",
      "(45, 15) (4456, 15)\n"
     ]
    },
    {
     "name": "stderr",
     "output_type": "stream",
     "text": [
      "100%|██████████| 345926/345926 [00:36<00:00, 9407.07it/s]\n"
     ]
    },
    {
     "name": "stdout",
     "output_type": "stream",
     "text": [
      "key: 7\n",
      "(61, 15) (5995, 15)\n"
     ]
    },
    {
     "name": "stderr",
     "output_type": "stream",
     "text": [
      "100%|██████████| 345926/345926 [00:53<00:00, 6453.74it/s]\n"
     ]
    },
    {
     "name": "stdout",
     "output_type": "stream",
     "text": [
      "key: 8\n",
      "(117, 15) (11578, 15)\n"
     ]
    },
    {
     "name": "stderr",
     "output_type": "stream",
     "text": [
      "100%|██████████| 345926/345926 [02:05<00:00, 2747.57it/s]\n"
     ]
    },
    {
     "name": "stdout",
     "output_type": "stream",
     "text": [
      "key: 9\n",
      "(179, 15) (17745, 15)\n"
     ]
    },
    {
     "name": "stderr",
     "output_type": "stream",
     "text": [
      "100%|██████████| 345926/345926 [03:18<00:00, 1743.12it/s]\n"
     ]
    },
    {
     "name": "stdout",
     "output_type": "stream",
     "text": [
      "key: 10\n",
      "(248, 15) (24530, 15)\n"
     ]
    },
    {
     "name": "stderr",
     "output_type": "stream",
     "text": [
      "100%|██████████| 345926/345926 [04:34<00:00, 1258.81it/s]\n"
     ]
    },
    {
     "name": "stdout",
     "output_type": "stream",
     "text": [
      "key: 11\n",
      "(292, 15) (28936, 15)\n"
     ]
    },
    {
     "name": "stderr",
     "output_type": "stream",
     "text": [
      "100%|██████████| 345926/345926 [05:24<00:00, 1067.30it/s]\n"
     ]
    },
    {
     "name": "stdout",
     "output_type": "stream",
     "text": [
      "key: 12\n",
      "(362, 15) (35804, 15)\n"
     ]
    },
    {
     "name": "stderr",
     "output_type": "stream",
     "text": [
      "100%|██████████| 345926/345926 [06:19<00:00, 912.35it/s] \n"
     ]
    },
    {
     "name": "stdout",
     "output_type": "stream",
     "text": [
      "key: 13\n",
      "(403, 15) (39868, 15)\n"
     ]
    },
    {
     "name": "stderr",
     "output_type": "stream",
     "text": [
      "100%|██████████| 345926/345926 [07:38<00:00, 754.41it/s]\n"
     ]
    },
    {
     "name": "stdout",
     "output_type": "stream",
     "text": [
      "key: 14\n",
      "(430, 15) (42593, 15)\n"
     ]
    },
    {
     "name": "stderr",
     "output_type": "stream",
     "text": [
      "100%|██████████| 345926/345926 [08:25<00:00, 684.14it/s]\n"
     ]
    }
   ],
   "source": [
    "for key in range(1, 15):\n",
    "    key = str(key)\n",
    "    # make whale, dolphin list\n",
    "    final_type = key\n",
    "    temp = tot_price_df.sort_values(by=[final_type], ascending=False)\n",
    "    temp = temp.reset_index(drop=True)\n",
    "\n",
    "    whale_num = round(0.1*0.01*trader_num_dict[key])\n",
    "    dolphin_num = round(10*0.01*trader_num_dict[key])\n",
    "    whale = temp.loc[:whale_num-1] #441 (0.1%)\n",
    "    dolphin = temp.loc[whale_num:(dolphin_num-1)] #44137(10%) - 441 = 43696\n",
    "    whale_list = whale['wallet_addr'].tolist()\n",
    "    dolphin_list = dolphin['wallet_addr'].tolist()\n",
    "    print('key:', key)\n",
    "    print(whale.shape, dolphin.shape)\n",
    "    # add it to type_dict\n",
    "    for addr in tqdm(wallet_all):\n",
    "        # whale\n",
    "        if addr in whale_list:\n",
    "            type_dict[addr]['is_whale'][key] = True\n",
    "        else:\n",
    "            type_dict[addr]['is_whale'][key] = False\n",
    "\n",
    "        # dolphin\n",
    "        if addr in dolphin_list:\n",
    "            type_dict[addr]['is_dolphin'][key] = True\n",
    "        else:\n",
    "            type_dict[addr]['is_dolphin'][key] = False"
   ]
  },
  {
   "cell_type": "code",
   "execution_count": 28,
   "id": "97df363f-c954-42a3-b8ee-393361a3089f",
   "metadata": {},
   "outputs": [
    {
     "name": "stderr",
     "output_type": "stream",
     "text": [
      "100%|██████████| 345926/345926 [08:04<00:00, 713.92it/s] \n",
      "100%|██████████| 345926/345926 [10:08<00:00, 568.50it/s]\n"
     ]
    }
   ],
   "source": [
    "# insert into db\n",
    "new_col = db['trader_type']\n",
    "for addr in tqdm(list(type_dict.keys())):\n",
    "    new_col.insert_one({'wallet_addr': addr})\n",
    "    \n",
    "db.trader_type.create_index('wallet_addr')\n",
    "for addr in tqdm(list(type_dict.keys())):\n",
    "    temp = {'is_whale': type_dict[addr]['is_whale'], 'is_dolphin': type_dict[addr]['is_dolphin']}\n",
    "    db.trader_type.update_one({\"wallet_addr\": addr}, {\"$set\": temp})"
   ]
  },
  {
   "cell_type": "code",
   "execution_count": 96,
   "id": "138d1670-bce6-42ea-a7f8-ae5fb4594ef4",
   "metadata": {},
   "outputs": [
    {
     "data": {
      "text/plain": [
       "0.29970574046594217"
      ]
     },
     "execution_count": 96,
     "metadata": {},
     "output_type": "execute_result"
    }
   ],
   "source": [
    "#-------------------------------------------graph--------------------------------------------------"
   ]
  },
  {
   "cell_type": "code",
   "execution_count": 31,
   "id": "c0cab36c-d8ee-4747-b008-686a5b768e93",
   "metadata": {},
   "outputs": [
    {
     "data": {
      "text/plain": [
       "[14358966.458472142,\n",
       " 97044739.81892496,\n",
       " 204381425.55572894,\n",
       " 387643199.1434003,\n",
       " 473175830.7120114,\n",
       " 469247332.9277898,\n",
       " 722901377.0139477,\n",
       " 3621335005.5282936,\n",
       " 3892591627.8197293,\n",
       " 6087517762.841539,\n",
       " 7361517149.7458105,\n",
       " 6485007253.929691,\n",
       " 5801113558.477683,\n",
       " 6348497671.932194]"
      ]
     },
     "execution_count": 31,
     "metadata": {},
     "output_type": "execute_result"
    }
   ],
   "source": [
    "import numpy as np\n",
    "tot_price = []\n",
    "for i in range(0,14):\n",
    "    temp = tot_price_df[str(i+1)].tolist()\n",
    "    temp_sum = np.sum(temp)\n",
    "    tot_price.append(temp_sum)\n",
    "\n",
    "tot_price"
   ]
  },
  {
   "cell_type": "code",
   "execution_count": 36,
   "id": "f0a5a504-1ecf-48c6-9331-fa6bd18803c6",
   "metadata": {},
   "outputs": [
    {
     "name": "stderr",
     "output_type": "stream",
     "text": [
      "100%|██████████| 345926/345926 [00:00<00:00, 602828.43it/s]\n"
     ]
    }
   ],
   "source": [
    "import pandas as pd\n",
    "\n",
    "tot_df = pd.DataFrame(list(db.trader_type.find()))\n",
    "whale_df = tot_df[['wallet_addr', 'is_whale']]\n",
    "whale_dict = whale_df.to_dict('records')\n",
    "\n",
    "whale_list = [[], [], [], [], [], [], [], [], [], [], [], [], [], []]\n",
    "from tqdm import tqdm\n",
    "for item in tqdm(whale_dict):\n",
    "    is_whale = [key for key, value in item['is_whale'].items() if value == True]\n",
    "    for i in is_whale:\n",
    "        whale_list[int(i)-1].append(item['wallet_addr'])"
   ]
  },
  {
   "cell_type": "code",
   "execution_count": 38,
   "id": "0759a08e-469b-4e8c-a13b-c52327e262cc",
   "metadata": {},
   "outputs": [
    {
     "name": "stdout",
     "output_type": "stream",
     "text": [
      "1765852.518365643\n",
      "14481205.24442449\n",
      "37576260.74822155\n",
      "74709032.41061658\n",
      "103613790.41975722\n",
      "97389982.38498676\n",
      "161356198.3740798\n",
      "631655214.7887367\n",
      "700633546.4732046\n",
      "1176588944.9112911\n",
      "1413979007.721785\n",
      "1242847752.6941602\n",
      "1073643729.9769301\n",
      "1225948795.6080794\n"
     ]
    }
   ],
   "source": [
    "whale_tot_price = []\n",
    "for i in range(0,14):\n",
    "    temp_ = whale_list[i]\n",
    "    temp = tot_price_df[tot_price_df['wallet_addr'].isin(temp_)]\n",
    "    temp_list = temp[str(i+1)].tolist()\n",
    "    temp_sum = np.sum(temp_list)\n",
    "    print(temp_sum)\n",
    "    whale_tot_price.append(temp_sum)"
   ]
  },
  {
   "cell_type": "code",
   "execution_count": 205,
   "id": "f8731fa9-0e7b-413c-8ee3-435dbd209443",
   "metadata": {},
   "outputs": [],
   "source": [
    "whale_percent = []\n",
    "\n",
    "for i in range(0,14):\n",
    "    a = tot_price[i]\n",
    "    b = whale_tot_price[i]\n",
    "    whale_percent.append(b/a*100)"
   ]
  },
  {
   "cell_type": "code",
   "execution_count": 40,
   "id": "b6bf647b-732f-4b3a-87fa-c934d21e4091",
   "metadata": {},
   "outputs": [],
   "source": [
    "a = [1765852.518365643,\n",
    " 14481205.24442449,\n",
    " 37576260.74822155,\n",
    " 74709032.41061658,\n",
    " 103613790.41975722,\n",
    " 97389982.38498676,\n",
    " 161356198.3740798,\n",
    " 631655214.7887367,\n",
    " 700633546.4732046,\n",
    " 1176588944.9112911,\n",
    " 1413979007.721785,\n",
    " 1242847752.6941602,\n",
    " 1073643729.9769301,\n",
    " 1225948795.6080794]\n",
    "b = [9287491.152681481,\n",
    " 69737459.83800822,\n",
    " 144081926.1398188,\n",
    " 280553036.72795165,\n",
    " 323032849.0523398,\n",
    " 317537004.80628955,\n",
    " 478251509.4068606,\n",
    " 2445985645.344505,\n",
    " 2568057283.6497636,\n",
    " 4008945579.23721,\n",
    " 4857140792.896008,\n",
    " 4268538273.572378,\n",
    " 3896794194.7383475,\n",
    " 4261152642.9607954]\n",
    "minnows = []\n",
    "for i in range(0,14):\n",
    "    minnows.append(tot_price[i]-a[i]-b[i])"
   ]
  },
  {
   "cell_type": "code",
   "execution_count": 41,
   "id": "79dc2ce7-efea-43f1-9332-4eaf4c15cc07",
   "metadata": {},
   "outputs": [
    {
     "data": {
      "text/plain": [
       "[3305622.787425019,\n",
       " 12826074.736492246,\n",
       " 22723238.66768861,\n",
       " 32381130.00483209,\n",
       " 46529191.23991442,\n",
       " 54320345.736513495,\n",
       " 83293669.23300731,\n",
       " 543694145.395052,\n",
       " 623900797.6967611,\n",
       " 901983238.6930385,\n",
       " 1090397349.1280174,\n",
       " 973621227.6631527,\n",
       " 830675633.7624059,\n",
       " 861396233.3633184]"
      ]
     },
     "execution_count": 41,
     "metadata": {},
     "output_type": "execute_result"
    }
   ],
   "source": [
    "minnows"
   ]
  },
  {
   "cell_type": "code",
   "execution_count": 42,
   "id": "c9b5d33b-4483-417d-8b10-a2c8dc2bf75f",
   "metadata": {},
   "outputs": [
    {
     "data": {
      "image/png": "[encoded data removed]",
      "text/plain": [
       "<Figure size 800x500 with 1 Axes>"
      ]
     },
     "metadata": {},
     "output_type": "display_data"
    }
   ],
   "source": [
    "# libraries\n",
    "import matplotlib.pyplot as plt\n",
    "import numpy as np\n",
    "import pandas as pd\n",
    " \n",
    "# Data\n",
    "#plt.style.use('seaborn-darkgrid')\n",
    "plt.rcdefaults()\n",
    "plt.figure(figsize=(8,5))\n",
    "r = [0,1,2,3,4,5,6,7,8,9,10,11,12,13]\n",
    "# multiple line plots\n",
    "plt.plot(r, tot_price, color='black', marker='o', markerfacecolor='black', markersize=5, label = 'Market Cap', linestyle='dashed')\n",
    "plt.plot(r, a, color='darkblue', marker='*', markerfacecolor='darkblue', markersize=7, label = 'whales')\n",
    "plt.plot(r, b, color='dodgerblue', marker='D', markerfacecolor='dodgerblue', markersize=5, label = 'dolphins')\n",
    "plt.plot(r, minnows, color='olivedrab', marker='s', markerfacecolor='olivedrab', markersize=5, label = 'minnows')\n",
    "\n",
    "names = ('1','2','3','4','5','6','7','8','9','10','11','12','13','14')\n",
    "\n",
    "# show legend\n",
    "#plt.title('Holding value of each group')\n",
    "plt.xlabel('month')\n",
    "plt.ylabel('Holding Value (USD)')\n",
    "plt.xticks(r, names)\n",
    "plt.yticks([0,0.2e10,0.4e10,0.6e10,0.8e10,1e10,1.2e10,1.4e10], labels=['$0', '$2B', '$4B', '$6B', '$8B', '$10B', '$12B', '$14B'])\n",
    "plt.legend()\n",
    "#plt.ylim(1e6,1e11)\n",
    "#plt.yscale('log')\n",
    "# show graph\n",
    "plt.grid(True, axis='y')\n",
    "plt.show()\n",
    "#plt.savefig('temp.png')"
   ]
  },
  {
   "cell_type": "code",
   "execution_count": 43,
   "id": "1f754419-e617-43ee-9f2f-c0b37e7805e2",
   "metadata": {},
   "outputs": [
    {
     "data": {
      "image/png": "[encoded data removed]",
      "text/plain": [
       "<Figure size 1000x700 with 1 Axes>"
      ]
     },
     "metadata": {},
     "output_type": "display_data"
    }
   ],
   "source": [
    "# libraries\n",
    "import numpy as np\n",
    "import matplotlib.pyplot as plt\n",
    "from matplotlib import rc\n",
    "import pandas as pd\n",
    " \n",
    "# Data\n",
    "r = [0,1,2,3,4,5,6,7,8,9,10,11,12,13]\n",
    "raw_data = {'greenBars': minnows,'orangeBars':b ,'blueBars': a}\n",
    "df = pd.DataFrame(raw_data)\n",
    " \n",
    "# From raw value to percentage\n",
    "totals = [i+j+k for i,j,k in zip(df['greenBars'], df['orangeBars'], df['blueBars'])]\n",
    "greenBars = [i / j * 100 for i,j in zip(df['greenBars'], totals)]\n",
    "orangeBars = [i / j * 100 for i,j in zip(df['orangeBars'], totals)]\n",
    "blueBars = [i / j * 100 for i,j in zip(df['blueBars'], totals)]\n",
    "plt.figure(figsize=(10,7))\n",
    "# plot\n",
    "barWidth = 0.85\n",
    "names = ('21-01','21-02','21-03','21-04','21-05','21-06','21-07','21-08','21-09','21-10','21-11','21-12','22-01','22-02')\n",
    "# Create green Bars\n",
    "bar1 = plt.bar(r, greenBars, color='olivedrab', edgecolor='white', width=barWidth, label = 'minnow')\n",
    "# Create orange Bars\n",
    "bar2 = plt.bar(r, orangeBars, bottom=greenBars, color='dodgerblue', edgecolor='white', width=barWidth, label = 'dolphin')\n",
    "# Create blue Bars|\n",
    "bar3 = plt.bar(r, blueBars, bottom=[i+j for i,j in zip(greenBars, orangeBars)], color='darkblue', edgecolor='white', width=barWidth, label = 'whale')\n",
    " \n",
    "# Custom x axis\n",
    "plt.margins(x=0, y=0)\n",
    "#plt.title('Holding value percentage of each group')\n",
    "plt.ylabel('Percentage (%)', fontsize=24)\n",
    "plt.yticks(fontsize=24)\n",
    "plt.xticks(r, names, fontsize=24, rotation=45)\n",
    "#plt.xlabel(fontsize=24)\n",
    "#plt.legend(bbox_to_anchor=(0.0, 1.2), ncol=3, fontsize=24, handles=[bar3, bar2, bar1])\n",
    "plt.grid(True, color='gray', alpha=0.3, linestyle='--')\n",
    "# Show graphic\n",
    "plt.tight_layout()\n",
    "#plt.show()\n",
    "plt.savefig('temp.pdf')"
   ]
  }
 ],
 "metadata": {
  "kernelspec": {
   "display_name": "jupyter",
   "language": "python",
   "name": "jupyter"
  },
  "language_info": {
   "codemirror_mode": {
    "name": "ipython",
    "version": 3
   },
   "file_extension": ".py",
   "mimetype": "text/x-python",
   "name": "python",
   "nbconvert_exporter": "python",
   "pygments_lexer": "ipython3",
   "version": "3.8.11"
  }
 },
 "nbformat": 4,
 "nbformat_minor": 5
}
